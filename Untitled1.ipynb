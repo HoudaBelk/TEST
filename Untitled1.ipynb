{
 "cells": [
  {
   "cell_type": "code",
   "execution_count": null,
   "id": "5c8bdea3",
   "metadata": {},
   "outputs": [],
   "source": [
    "from sklearn.metrics import explained_variance_score\n",
    "from sklearn.metrics import max_error\n",
    "from sklearn.metrics import mean_absolute_error\n",
    "from sklearn.metrics import mean_squared_error\n",
    "from sklearn.metrics import mean_squared_log_error\n",
    "from sklearn.metrics import median_absolute_error\n",
    "from sklearn.metrics import r2_score"
   ]
  },
  {
   "cell_type": "code",
   "execution_count": null,
   "id": "6435884f",
   "metadata": {},
   "outputs": [],
   "source": [
    "from sklearn import linear_model\n",
    "from sklearn.linear_model import Ridge"
   ]
  },
  {
   "cell_type": "markdown",
   "id": "732d6271",
   "metadata": {},
   "source": [
    "# Régression"
   ]
  },
  {
   "cell_type": "code",
   "execution_count": null,
   "id": "149c18ca",
   "metadata": {},
   "outputs": [],
   "source": [
    "reg = linear_model.LinearRegression()\n",
    "reg.fit(X_train, y_train)\n",
    "y_pred = reg.predict(X_test)\n",
    "print(r2_score(y_test, y_pred))"
   ]
  },
  {
   "cell_type": "markdown",
   "id": "9ff08b32",
   "metadata": {},
   "source": [
    "# Ridge"
   ]
  },
  {
   "cell_type": "code",
   "execution_count": null,
   "id": "7fcf0d9c",
   "metadata": {},
   "outputs": [],
   "source": [
    "from sklearn.linear_model import Ridge"
   ]
  },
  {
   "cell_type": "code",
   "execution_count": null,
   "id": "7611b68c",
   "metadata": {},
   "outputs": [],
   "source": [
    "rid = Ridge(alpha =0.1)\n",
    "#ndir whda m7shra bhal 0.5"
   ]
  },
  {
   "cell_type": "code",
   "execution_count": null,
   "id": "16b63f28",
   "metadata": {},
   "outputs": [],
   "source": [
    "rid.fit(X_train, y_train)\n",
    "y_pred = rid.predict(X_test)\n"
   ]
  },
  {
   "cell_type": "markdown",
   "id": "b4a1f833",
   "metadata": {},
   "source": [
    "# Metrics"
   ]
  },
  {
   "cell_type": "code",
   "execution_count": null,
   "id": "9c7b3d5f",
   "metadata": {},
   "outputs": [],
   "source": [
    "print(\"MAE :  \" + str(metrics.mean_absolute_error(y_test, y_pred)))\n",
    "\n",
    "print(\" R2\" + str(metrics.r2_score(y_test, y_pred)))"
   ]
  },
  {
   "cell_type": "markdown",
   "id": "d19ac240",
   "metadata": {},
   "source": [
    "# XGBOOST "
   ]
  }
 ],
 "metadata": {
  "kernelspec": {
   "display_name": "Python 3 (ipykernel)",
   "language": "python",
   "name": "python3"
  },
  "language_info": {
   "codemirror_mode": {
    "name": "ipython",
    "version": 3
   },
   "file_extension": ".py",
   "mimetype": "text/x-python",
   "name": "python",
   "nbconvert_exporter": "python",
   "pygments_lexer": "ipython3",
   "version": "3.9.7"
  }
 },
 "nbformat": 4,
 "nbformat_minor": 5
}
